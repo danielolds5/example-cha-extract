{
 "cells": [
  {
   "cell_type": "code",
   "execution_count": 49,
   "metadata": {
    "collapsed": true
   },
   "outputs": [],
   "source": [
    "import numpy as np\n",
    "filePointer = file('tb01.cha','r') # get the .cha file of interest\n",
    "fileContent = filePointer.read() # get the contents of the file\n",
    "wordIDs = {}\n",
    "curID = 0"
   ]
  },
  {
   "cell_type": "code",
   "execution_count": 50,
   "metadata": {
    "collapsed": false
   },
   "outputs": [],
   "source": [
    "fileOutput = file('extractedWords.txt','w') # we will save to this file\n",
    "fileLines = fileContent.split('\\n') # let's extract the lines into an array\n",
    "for line in fileLines: # loop through each entry of that array (i.e., each line)\n",
    "    if len(line)>0 and line[0] == '*': # if first character is an asterisk, then it's a tier we want\n",
    "        id = line[1:4]\n",
    "        lineContent = line.split('\\t')[1] # second element of array, using tab character\n",
    "        lineWords = lineContent.split(' ') # get all words (split by space)\n",
    "        for word in lineWords[:-1]: # loop just up to the time stamp (?) => -1 will skip the last entry of the array  \n",
    "            if word not in wordIDs:\n",
    "                curID += 1 # increment the identifiers to incorporate this unseen word\n",
    "                wordIDs[word] = curID # save this word with this ID\n",
    "            fileOutput.write(id+'\\t'+word+'\\t'+str(wordIDs[word])+'\\n') # print the word to the output file; add a return character\n",
    "fileOutput.close()"
   ]
  }
 ],
 "metadata": {
  "kernelspec": {
   "display_name": "Python 2",
   "language": "python",
   "name": "python2"
  },
  "language_info": {
   "codemirror_mode": {
    "name": "ipython",
    "version": 2
   },
   "file_extension": ".py",
   "mimetype": "text/x-python",
   "name": "python",
   "nbconvert_exporter": "python",
   "pygments_lexer": "ipython2",
   "version": "2.7.10"
  }
 },
 "nbformat": 4,
 "nbformat_minor": 0
}
